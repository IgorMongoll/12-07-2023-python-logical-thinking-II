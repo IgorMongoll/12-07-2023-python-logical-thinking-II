{
 "cells": [
  {
   "cell_type": "code",
   "execution_count": 11,
   "metadata": {},
   "outputs": [
    {
     "name": "stdout",
     "output_type": "stream",
     "text": [
      "3\n"
     ]
    }
   ],
   "source": [
    "#10\n",
    "f=1\n",
    "def func(arg):\n",
    "    #global f\n",
    "    #f=f+arg\n",
    "    # print(f)\n",
    "    #return\n",
    "    return f+arg\n",
    "print(func(2))"
   ]
  },
  {
   "cell_type": "code",
   "execution_count": 12,
   "metadata": {},
   "outputs": [
    {
     "name": "stdout",
     "output_type": "stream",
     "text": [
      "1\n",
      "2\n"
     ]
    }
   ],
   "source": [
    "#12\n",
    "g=1\n",
    "def func(arg):\n",
    "    global g\n",
    "    g=arg\n",
    "    return 0\n",
    "\n",
    "print(g+func(2))\n",
    "print(func(2)+g)"
   ]
  },
  {
   "cell_type": "code",
   "execution_count": 14,
   "metadata": {},
   "outputs": [
    {
     "name": "stdout",
     "output_type": "stream",
     "text": [
      "2,2\n",
      "None\n"
     ]
    }
   ],
   "source": [
    "#15\n",
    "def func(arg1=\"1\",arg2=\"2\"):\n",
    "    print(arg1+\",\"+arg2)\n",
    "\n",
    "print(func(\"2\"))"
   ]
  },
  {
   "cell_type": "code",
   "execution_count": null,
   "metadata": {},
   "outputs": [],
   "source": [
    "variableThree=20\n",
    "funktion MyFunction(variable1=20 VARIABLE2):\n",
    "    variableThree +variable1+VARIABLE2\n",
    "\n",
    "VaRiAbLe4=MyFunction(14, 15)\n",
    "(variableThree+VaRiAbLe4)==(79+59)"
   ]
  },
  {
   "cell_type": "code",
   "execution_count": 15,
   "metadata": {},
   "outputs": [
    {
     "name": "stdout",
     "output_type": "stream",
     "text": [
      "Вы студент.\n"
     ]
    }
   ],
   "source": [
    "# Предположим, у вас есть словарь с информацией о пользователе\n",
    "user = {\n",
    "    \"name\": \"John\",\n",
    "    \"type\": \"Student\",\n",
    "    \"password\": \"qwerty\",\n",
    "    \"modules\": []\n",
    "}\n",
    "\n",
    "\n",
    "def is_Student(user):\n",
    "    # Функция возвращает True, если тип пользователя - \"Student\", иначе возвращает False\n",
    "    return user['type'] == 'Student'\n",
    "        \n",
    "\n",
    "# Вызываем функцию is_Student() и передаем в нее словарь user в качестве аргумента\n",
    "result = is_Student(user)\n",
    "\n",
    "# Запрашиваем имя пользователя\n",
    "username = input(\"What is your username? \")\n",
    "\n",
    "# Проверяем, существует ли введенное имя пользователя и совпадает ли его тип с типом студента\n",
    "if username == user[\"name\"] and result:\n",
    "    print(\"Вы студент.\")\n",
    "else:\n",
    "    print(\"Вы не студент или введено неверное имя пользователя.\")\n"
   ]
  }
 ],
 "metadata": {
  "kernelspec": {
   "display_name": "Python 3",
   "language": "python",
   "name": "python3"
  },
  "language_info": {
   "codemirror_mode": {
    "name": "ipython",
    "version": 3
   },
   "file_extension": ".py",
   "mimetype": "text/x-python",
   "name": "python",
   "nbconvert_exporter": "python",
   "pygments_lexer": "ipython3",
   "version": "3.10.6"
  },
  "orig_nbformat": 4
 },
 "nbformat": 4,
 "nbformat_minor": 2
}
